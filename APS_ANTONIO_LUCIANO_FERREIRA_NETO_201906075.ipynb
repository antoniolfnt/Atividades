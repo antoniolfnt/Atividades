{
  "nbformat": 4,
  "nbformat_minor": 0,
  "metadata": {
    "colab": {
      "provenance": [],
      "authorship_tag": "ABX9TyNbWCLgEOeuKExJ9SFEGeQK",
      "include_colab_link": true
    },
    "kernelspec": {
      "name": "python3",
      "display_name": "Python 3"
    },
    "language_info": {
      "name": "python"
    }
  },
  "cells": [
    {
      "cell_type": "markdown",
      "metadata": {
        "id": "view-in-github",
        "colab_type": "text"
      },
      "source": [
        "<a href=\"https://colab.research.google.com/github/antoniolfnt/Atividades/blob/master/APS_ANTONIO_LUCIANO_FERREIRA_NETO_201906075.ipynb\" target=\"_parent\"><img src=\"https://colab.research.google.com/assets/colab-badge.svg\" alt=\"Open In Colab\"/></a>"
      ]
    },
    {
      "cell_type": "markdown",
      "metadata": {
        "id": "Ag7x3oqVz6cR"
      },
      "source": [
        "Nome da Disciplina: Lógica de Programação<br>\n",
        "Nome do professor: Renan Alencar<br>\n",
        "Nome do aluno: Antonio Luciano Ferreira Neto<br>\n",
        "\n",
        "OBS: O número das questões estão com \"#\" logo no início"
      ]
    },
    {
      "cell_type": "code",
      "metadata": {
        "id": "Ee4Bd-Mk0Hl3"
      },
      "source": [
        "#1\n",
        "vl_hr = float(input(\"Digite quanto você ganha por hora? \"))\n",
        "hr_trabalhadas = int(input(\"Agora as horas trabalhadas no mês: \"))\n",
        "\n",
        "sl_bruto = vl_hr * hr_trabalhadas\n",
        "ir = sl_bruto * 0.11\n",
        "inss = sl_bruto * 0.08\n",
        "sndct = sl_bruto * 0.05\n",
        "\n",
        "print ('Salário Bruto : R$ %.2f' %sl_bruto)\n",
        "print ('IR: R$ %.2f' %ir )\n",
        "print ('INSS: R$ %.2f' %inss )\n",
        "print ('Sindicato: R$ %.2f' %sndct )\n",
        "print ('Salário Liquido : R$ %.2f' %(sl_bruto - ir - inss - sndct))"
      ],
      "execution_count": null,
      "outputs": []
    },
    {
      "cell_type": "code",
      "metadata": {
        "id": "UwHRQyQy1siv"
      },
      "source": [
        "#2\n",
        "t_area = float(input(\"Digite o tamanho da área: \"))\n",
        "\n",
        "litros = t_area / 6\n",
        "latas = litros / 18\n",
        "\n",
        "if latas % 18 != 0:\n",
        "    latas += 1\n",
        "preco = latas * 80\n",
        "\n",
        "galoes = litros / 3.6\n",
        "if galoes % 3.6 != 0:\n",
        "    galoes += 1\n",
        "preco2 = galoes * 25\n",
        "\n",
        "\n",
        "mistura_lata = int(litros / 18)\n",
        "mistura_galao = int((litros - (mistura_lata * 18)) / 3.6)\n",
        "\n",
        "if litros - (mistura_lata * 18) % 3.6 != 0:\n",
        "    mistura_galao += 1\n",
        "\n",
        "print(\"Apenas latas de 18 litros: %d\" % latas,\"latas com o preço: R$%d\" % preco)\n",
        "print(\"Apenas galões de 3.6 litros: %d\" % galoes, \"galões com o preço: R$%d\" % preco2)\n",
        "print(\"Mistura: %d latas e %d galões = R$%.2f\" % (mistura_lata, mistura_galao, ((mistura_lata * 80) + (mistura_galao * 25))))"
      ],
      "execution_count": null,
      "outputs": []
    },
    {
      "cell_type": "code",
      "metadata": {
        "id": "9oWNh-cX45xX"
      },
      "source": [
        "#3\n",
        "hr_trabalhadas = int(input(\"Digite o valor da sua hora trabalhada: \"))\n",
        "qtd_hora = int(input(\"E a quantidade de horas trabalhadas no mês: \"))\n",
        "\n",
        "sl_br = hr_trabalhadas * qtd_hora\n",
        "inss = sl_br * 0.1\n",
        "fgts = sl_br * 0.11\n",
        "sind = sl_br * 0.03\n",
        "salariol = sl_br - (inss + ir)\n",
        "\n",
        "\n",
        "if sl_br <= 900:\n",
        "    salariol = (inss + fgts + sind)\n",
        "\n",
        "elif sl_br >= 901 and sl_br <=  1500:\n",
        "    ir = sl_br * 0.05\n",
        "    salariol = sl_br - (inss + fgts + sind + ir)\n",
        "\n",
        "else:\n",
        "    sl_br >= 1501 and sl_br <=  2500\n",
        "    ir = sl_br * 0.2\n",
        "    salariol = sl_br - (inss + ir)\n",
        "\n",
        "    \n",
        "print(\"Seu salario bruto é: %7.2fR$\" % sl_br)\n",
        "print(\"O valor do IR é: %7.2fR$\" % ir)\n",
        "print(\"O valor do INSS é: %7.2fR$\" % inss)\n",
        "print(\"O valor de seu FGTS é: %7.2fR$\" % fgts)\n",
        "print(\"O total de descontos é: %7.2fR$\" % (ir+inss))\n",
        "print(\"E o salário líquido é: %7.2fR$\" % (sl_br - ir - inss)) "
      ],
      "execution_count": null,
      "outputs": []
    },
    {
      "cell_type": "code",
      "metadata": {
        "id": "SwIOnvQZFLCi"
      },
      "source": [
        "#4\n",
        "nt_1 = float(input(\"Digite a primeira nota: \"))\n",
        "nt_2 = float(input(\"Digite a segunda nota: \"))\n",
        "media = (nt_1 + nt_2) / 2\n",
        "\n",
        "if media >= 9.0 and media <= 10.0:\n",
        "    print(\"A notas foram\", nt_1, \"e\" , nt_2, \", e a média: %.2f, Conceito: A.\" % (media))\n",
        "\n",
        "elif media >= 7.5 and media < 9.0:\n",
        "    print(\"A notas foram\", nt_1, \"e\" , nt_2, \", e a média: %.2f, Conceito: B.\" % (media))\n",
        "\n",
        "elif media >= 6.0 and media <= 7.5:\n",
        "    print(\"A notas foram\", nt_1, \"e\" , nt_2, \", e a média: %.2f, Conceito: C.\" % (media))\n",
        "\n",
        "elif media >= 4.0 and media <= 6.0:\n",
        "    print(\"A notas foram\", nt_1, \"e\" , nt_2, \", e a média: %.2f, Conceito: D.\" % (media))\n",
        "\n",
        "elif media > 0 and media <= 4.0:\n",
        "    print(\"A notas foram\", nt_1, \"e\" , nt_2, \", e a média: %.2f, Conceito: E.\" % (media))\n",
        "\n",
        "else:\n",
        "    print(\"Nota inválida\")"
      ],
      "execution_count": null,
      "outputs": []
    },
    {
      "cell_type": "code",
      "metadata": {
        "id": "aMIIUWbzIb6d"
      },
      "source": [
        "#5\n",
        "init = 10\n",
        "fin = 1\n",
        "tabuada = 1\n",
        "\n",
        "while (init >= fin):\n",
        "\ttabuada = int(input(\"Montar tabuada de: \"))\n",
        "\tinit = int(input(\"Começar por: \"))\n",
        "\tfin = int(input(\"Terminar em: \"))\n",
        "\tif (init >= fin):\n",
        "\t\tprint(\"\")\n",
        "\t\tprint(\"O valor inicial não pode ser maior que o fin!\\n\")\n",
        "\t\tprint(\"\")\n",
        "\t\t\n",
        "print(\"\")\t\n",
        "print(\"Vou montar a tabuada de\",tabuada, \"começando em\", init, \"e terminando em\", fin )\n",
        "\n",
        "while (init < (fin + 1)):\n",
        "\tprint(tabuada, \"X\", init, \"=\", tabuada * init)\n",
        "\tinit = init + 1"
      ],
      "execution_count": null,
      "outputs": []
    },
    {
      "cell_type": "code",
      "metadata": {
        "id": "RvI2mIr6qe4V"
      },
      "source": [
        "#6\n",
        "codigos = [100, 101, 102, 103, 104, 105]\n",
        "comidas = ['Cachorro Quente', 'Bauru Simples', 'Bauru com ovo', 'Hamburguer', 'ChesseBurguer', 'Refrigerante']\n",
        "precos = [1.20, 1.30, 1.50, 1.20, 1.30, 1.0]\n",
        "codigo = True\n",
        "n_pedido = 1\n",
        "pedido = []\n",
        "\n",
        "while codigo != 0:\n",
        "    print('100 - Cachorro Quente\\n101 - Bauru Simples\\n102 - Bauru com ovo\\n103 - Hambúrguer\\n104 - Cheeseburguer\\n105 - Refrigerante\\n0 - Finalizar Pedido\\n')\n",
        "    print(\"\\nPedido\", n_pedido)\n",
        "    codigo = int(input(\"Digite o código do alimento: \"))\n",
        "    if codigo == 0:\n",
        "        break\n",
        "    else:\n",
        "        while codigo not in codigos:\n",
        "            print(\"[Este código não corresponde a nenhum alimento.]\")\n",
        "            codigo = int(input(\"Digite o código do alimento: \"))\n",
        "\n",
        "        indice = codigos.index(codigo)\n",
        "        quantidade = int(input(\"Digite a quantidade: \"))\n",
        "        valor_pedido = precos[indice] * quantidade\n",
        "        pedido.append(valor_pedido)\n",
        "    n_pedido += 1\n",
        "\n",
        "pedido_nota = 0\n",
        "print(\"\\n\" * 2)\n",
        "for i in range(n_pedido - 1):\n",
        "    print(\"O Pedido\", pedido_nota + 1, \"= R$%.2f\" % pedido[pedido_nota])\n",
        "    pedido_nota += 1\n",
        "print(\"E o total é : R$%.2f\" % sum(pedido))"
      ],
      "execution_count": null,
      "outputs": []
    },
    {
      "cell_type": "code",
      "metadata": {
        "id": "ae6U6MgaJB3h",
        "outputId": "4a4e91bf-1bca-412c-ff44-dcb72be0bac6",
        "colab": {
          "base_uri": "https://localhost:8080/"
        }
      },
      "source": [
        "#9\n",
        "dia = int(input(\"digite o dia Ex: 'DD' :\"))\n",
        "mes = int(input(\"digite o mês Ex: 'MM' :\"))\n",
        "ano = int(input(\"digite o ano Ex: 'AAAA' :\"))\n",
        "\n",
        "\n",
        "def extenso_mes(mes):\n",
        "\tlista_de_mes = [\"Janeiro\", \"Fevereiro\", \"Março\", \"Abril\", \"Maio\", \"Junho\", \"Julho\", \"Agosto\", \"Setembro\", \"Outubro\", \"Novembro\", \"Dezembro\"]\n",
        "\tmes_ex = lista_de_mes[mes-1]\n",
        "\treturn mes_ex\n",
        "\n",
        "def extenso_dia(dia):\n",
        "\n",
        "\tlista_de_dia = [\"Um\", \"Dois\", \"Três\", \"Quatro\", \"Cinco\", \"Seis\", \"Sete\", \"Oito\", \"Nove\", \"Dez\", \"Onze\", \"Doze\", \"Treze\", \"Catorzer\", \"Quinze\", \"Dezesseis\", \"Dezessete\", \"Dezoito\", \"Dezenove\", \"Vinte\", \"Vinte e Um\", \"Vinte e Dois\", \"Vinte e Três\", \"Vinte e Quatro\", \"Vinte e Cinco\", \"Vinte e Seis\", \"Vinte e Sete\", \"Vinte e Oito\", \"Vinte e Nove\", \"Trinta\", \"Trinta e Um\"]\n",
        "\tdia_ex = lista_de_dia[dia-1]\n",
        "\treturn dia_ex\n",
        "\n",
        "\n",
        "print(\"O valor por extenso é: \" + extenso_dia(dia) + \" de \" + extenso_mes(mes) + \" de %i \"%ano)"
      ],
      "execution_count": null,
      "outputs": [
        {
          "output_type": "stream",
          "name": "stdout",
          "text": [
            "digite o dia Ex: 'DD' :21\n",
            "digite o mês Ex: 'MM' :05\n",
            "digite o ano Ex: 'AAAA' :1997\n",
            "O valor por extenso é: Vinte e Um de Maio de 1997 \n"
          ]
        }
      ]
    },
    {
      "cell_type": "code",
      "metadata": {
        "colab": {
          "base_uri": "https://localhost:8080/"
        },
        "id": "g4XVaEJkM-FW",
        "outputId": "ec98e47b-6620-4f4c-fc83-cba52466ff55"
      },
      "source": [
        "#10\n",
        "from random import shuffle\n",
        "\n",
        "def embaralha(nome):\n",
        "    palavra = list(nome)\n",
        "    shuffle(palavra)\n",
        "    palavra = ''.join(palavra)\n",
        "    print(palavra.upper())\n",
        "\n",
        "\n",
        "nome = input('Digite algo: ')\n",
        "embaralha(nome)"
      ],
      "execution_count": null,
      "outputs": [
        {
          "output_type": "stream",
          "name": "stdout",
          "text": [
            "Digite algo: palavra\n",
            "RAVAALP\n"
          ]
        }
      ]
    }
  ]
}