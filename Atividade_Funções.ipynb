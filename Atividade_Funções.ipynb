{
  "nbformat": 4,
  "nbformat_minor": 0,
  "metadata": {
    "colab": {
      "provenance": [],
      "authorship_tag": "ABX9TyM92WH/8/8+MTNuwF4o2//e",
      "include_colab_link": true
    },
    "kernelspec": {
      "name": "python3",
      "display_name": "Python 3"
    },
    "language_info": {
      "name": "python"
    }
  },
  "cells": [
    {
      "cell_type": "markdown",
      "metadata": {
        "id": "view-in-github",
        "colab_type": "text"
      },
      "source": [
        "<a href=\"https://colab.research.google.com/github/antoniolfnt/Atividades/blob/master/Atividade_Fun%C3%A7%C3%B5es.ipynb\" target=\"_parent\"><img src=\"https://colab.research.google.com/assets/colab-badge.svg\" alt=\"Open In Colab\"/></a>"
      ]
    },
    {
      "cell_type": "markdown",
      "metadata": {
        "id": "s3TW5w43xidv"
      },
      "source": [
        "Faça um programa que use a função valorPagamento para determinar o valor a ser pago por uma prestação de uma conta. O programa deverá solicitar ao usuário o valor da prestação e o número de dias em atraso e passar estes valores para a função valorPagamento, que calculará o valor a ser pago e devolverá este valor ao programa que a chamou. O programa deverá então exibir o valor a ser pago na tela. Após a execução o programa deverá voltar a pedir outro valor de prestação e assim continuar até que seja informado um valor igual a zero para a prestação. Neste momento o programa deverá ser encerrado, exibindo o relatório do dia, que conterá a quantidade e o valor total de prestações pagas no dia. O cálculo do valor a ser pago é feito da seguinte forma. Para pagamentos sem atraso, cobrar o valor da prestação. Quando houver atraso, cobrar 3% de multa, mais 0,1% de juros por dia de atraso."
      ]
    },
    {
      "cell_type": "code",
      "metadata": {
        "colab": {
          "base_uri": "https://localhost:8080/"
        },
        "id": "atKIWwnaxkOm",
        "outputId": "b7d7107d-dc77-4bab-fddc-6951aed65821"
      },
      "source": [
        "def valorPagamento(valorPrest, diasAtr):\n",
        "  if diasAtr < 1:\n",
        "    valor = valorPrest\n",
        "    print(valor)\n",
        "    return valor\n",
        "  else:\n",
        "    valor = (valorPrest + valorPrest * 0.03 + 0.01 * diasAtr)\n",
        "    print(valor)\n",
        "    return valor\n",
        "\n",
        "valor = []\n",
        "valorPrest = 0\n",
        "diasAtr = 0\n",
        "qp = 0\n",
        "valortotal = 0\n",
        "\n",
        "while True:\n",
        "  qp += 1\n",
        "  valorPrest = float(input('Qual o valor da prestacao? '))\n",
        "  diasAtr = int(input('Quantos dias esta em atraso? '))\n",
        "  if valorPrest == 0:\n",
        "    break\n",
        "  valor.append(valorPagamento(valorPrest, diasAtr))\n",
        "\n",
        "qp -= 1\n",
        "for i in range(qp):\n",
        "   valortotal += valor[i]\n",
        "\n",
        "print('Relatorio do dia, foram pagas %d prestações' %qp)\n",
        "print('Valor total de prestações pagas: ', valortotal)"
      ],
      "execution_count": null,
      "outputs": [
        {
          "output_type": "stream",
          "name": "stdout",
          "text": [
            "Qual o valor da prestacao? 100\n",
            "Quantos dias esta em atraso? 5\n",
            "103.05\n",
            "Qual o valor da prestacao? 200\n",
            "Quantos dias esta em atraso? 30\n",
            "206.3\n",
            "Qual o valor da prestacao? 100\n",
            "Quantos dias esta em atraso? 0\n",
            "100.0\n",
            "Qual o valor da prestacao? 0\n",
            "Quantos dias esta em atraso? 0\n",
            "Relatorio do dia, foram pagas 3 prestações no valor:  [103.05, 206.3, 100.0]\n",
            "Valor total de prestações pagas:  409.35\n"
          ]
        }
      ]
    },
    {
      "cell_type": "code",
      "metadata": {
        "colab": {
          "base_uri": "https://localhost:8080/"
        },
        "id": "uw_xENWU69P7",
        "outputId": "1bfac718-c288-4396-c2ef-cd0d7545aa02"
      },
      "source": [
        "def valorPagamento(valor, dias):\n",
        "    juros = 0\n",
        "    if dias == 0:\n",
        "        return valor\n",
        "    else:\n",
        "        juros = 0.1 * dias\n",
        "\n",
        "        return valor + ((3 * valor)/100) + juros \n",
        "\n",
        "total = 0\n",
        "cont = 0\n",
        "while True:\n",
        "    valor = float(input('Digite o valor da prestação: '))\n",
        "    if valor == 0:\n",
        "        break\n",
        "    dias = int(input('Digite o número de dias em atraso: '))\n",
        "    total += valorPagamento(valor, dias)\n",
        "    cont += 1\n",
        "\n",
        "print('Quantidade total: %d' % cont)\n",
        "print('Valor total das prestações: %.2f' % total)"
      ],
      "execution_count": null,
      "outputs": [
        {
          "output_type": "stream",
          "name": "stdout",
          "text": [
            "Digite o valor da prestação: 100\n",
            "Digite o número de dias em atraso: 5\n",
            "Digite o valor da prestação: 200\n",
            "Digite o número de dias em atraso: 30\n",
            "Digite o valor da prestação: 100\n",
            "Digite o número de dias em atraso: 0\n",
            "Digite o valor da prestação: 0\n",
            "Quantidade total: 3\n",
            "Valor total das prestações: 412.50\n"
          ]
        }
      ]
    },
    {
      "cell_type": "code",
      "metadata": {
        "colab": {
          "base_uri": "https://localhost:8080/"
        },
        "id": "1h11fgt7249Z",
        "outputId": "00a67259-18ba-4afc-a0e7-45b0155a67a0"
      },
      "source": [
        "def imprimir(n):\n",
        "\n",
        "  for i in range(n):\n",
        "    m = i + 1\n",
        "    s\n",
        "\n",
        "    for j in range(i+1):\n",
        "\n",
        "      print(i)\n",
        "\n",
        "\n",
        "\n",
        "def main():\n",
        "\n",
        "  numero = int(input(\"Digite um número: \"))\n",
        "\n",
        "  imprimir(numero)\n",
        "\n",
        "   \n",
        "\n",
        "main()"
      ],
      "execution_count": null,
      "outputs": [
        {
          "output_type": "stream",
          "name": "stdout",
          "text": [
            "Digite um número: 4\n",
            "0\n",
            "1\n",
            "1\n",
            "2\n",
            "2\n",
            "2\n",
            "3\n",
            "3\n",
            "3\n",
            "3\n"
          ]
        }
      ]
    }
  ]
}