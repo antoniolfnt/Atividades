{
 "cells": [
  {
   "cell_type": "code",
   "execution_count": null,
   "metadata": {},
   "outputs": [],
   "source": [
    "#(1) imprime números de 1-100\n",
    "for n in range(1,101):\n",
    "    print (n)"
   ]
  },
  {
   "cell_type": "code",
   "execution_count": null,
   "metadata": {},
   "outputs": [],
   "source": [
    "#(2) Para os números divisíveis por 3, imprime \"Fizz\", ao invés de imprimir o número.\n",
    "for n in range(1,101):\n",
    "    if n % 3 == 0:\n",
    "        print ('Fizz')\n",
    "    else:\n",
    "        print (n)"
   ]
  },
  {
   "cell_type": "code",
   "execution_count": null,
   "metadata": {},
   "outputs": [],
   "source": [
    "#(3) Para os números divisíveis por 5, imprime \"Buzz\", ao invés de imprimir o número.\n",
    "for n in range(1,101):\n",
    "    if n % 5 == 0:\n",
    "        print ('Buzz')\n",
    "    else:\n",
    "        print (n)"
   ]
  },
  {
   "cell_type": "code",
   "execution_count": null,
   "metadata": {},
   "outputs": [],
   "source": [
    "#(4) Se o número for divisível por 3 e 5 ao mesmo tempo, imprime \"FizzBuzz\",ao invés de imprimir o número.\n",
    "for n in range(1,101):\n",
    "    if n % 3 == 0:\n",
    "        print (n)\n",
    "    elif n % 5 == 0:\n",
    "        print (n)\n",
    "    else:\n",
    "        print ('FizzBuzz')"
   ]
  },
  {
   "cell_type": "code",
   "execution_count": null,
   "metadata": {},
   "outputs": [],
   "source": []
  }
 ],
 "metadata": {
  "kernelspec": {
   "display_name": "Python 3",
   "language": "python",
   "name": "python3"
  },
  "language_info": {
   "codemirror_mode": {
    "name": "ipython",
    "version": 3
   },
   "file_extension": ".py",
   "mimetype": "text/x-python",
   "name": "python",
   "nbconvert_exporter": "python",
   "pygments_lexer": "ipython3",
   "version": "3.6.5"
  }
 },
 "nbformat": 4,
 "nbformat_minor": 2
}
